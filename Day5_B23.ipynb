{
 "cells": [
  {
   "cell_type": "code",
   "execution_count": null,
   "metadata": {},
   "outputs": [],
   "source": [
    "# Introduction to looping statements\n",
    "\n",
    "* Working with FOR Loops"
   ]
  },
  {
   "cell_type": "code",
   "execution_count": null,
   "metadata": {},
   "outputs": [],
   "source": []
  },
  {
   "cell_type": "code",
   "execution_count": 33,
   "metadata": {},
   "outputs": [],
   "source": [
    "bank_customers = ['naveen','papi','ram','karthic','samia','surya','vandana','anusha']"
   ]
  },
  {
   "cell_type": "code",
   "execution_count": null,
   "metadata": {},
   "outputs": [],
   "source": [
    "# to greeting the customers on a new year\n",
    "wish you a very happy new year"
   ]
  },
  {
   "cell_type": "code",
   "execution_count": 34,
   "metadata": {},
   "outputs": [
    {
     "name": "stdout",
     "output_type": "stream",
     "text": [
      "wish you a very happy new year,naveen\n"
     ]
    }
   ],
   "source": [
    "print(f\"wish you a very happy new year,{bank_customers[0]}\")"
   ]
  },
  {
   "cell_type": "code",
   "execution_count": 35,
   "metadata": {},
   "outputs": [
    {
     "name": "stdout",
     "output_type": "stream",
     "text": [
      "wish you a very happy new year,naveen\n",
      "wish you a very happy new year,papi\n",
      "wish you a very happy new year,ram\n",
      "wish you a very happy new year,karthic\n",
      "wish you a very happy new year,samia\n",
      "wish you a very happy new year,surya\n",
      "wish you a very happy new year,vandana\n",
      "wish you a very happy new year,anusha\n"
     ]
    }
   ],
   "source": [
    "for customer in bank_customers:\n",
    "    print(f\"wish you a very happy new year,{customer}\")"
   ]
  },
  {
   "cell_type": "code",
   "execution_count": null,
   "metadata": {},
   "outputs": [],
   "source": [
    "# General systax for FOR Loop\n",
    "for temp_var in main_var: # indentation is must followed wile using loops\n",
    "    print(temp_var)"
   ]
  },
  {
   "cell_type": "code",
   "execution_count": null,
   "metadata": {},
   "outputs": [],
   "source": []
  },
  {
   "cell_type": "code",
   "execution_count": 5,
   "metadata": {},
   "outputs": [
    {
     "name": "stdout",
     "output_type": "stream",
     "text": [
      "wish you a very happy new year,Raj\n",
      "wish you a very happy new year,Bala\n",
      "wish you a very happy new year,Nathan\n",
      "wish you a very happy new year,Kumar\n",
      "wish you a very happy new year,Sam\n",
      "wish you a very happy new year,Paul\n",
      "wish you a very happy new year,Panner\n",
      "wish you a very happy new year,Prabhu\n"
     ]
    }
   ],
   "source": [
    "for x in bank_customers:\n",
    "    print(f\"wish you a very happy new year,{x.title()}\")"
   ]
  },
  {
   "cell_type": "code",
   "execution_count": null,
   "metadata": {},
   "outputs": [],
   "source": []
  },
  {
   "cell_type": "code",
   "execution_count": null,
   "metadata": {},
   "outputs": [],
   "source": [
    "students = ['suman','keerthi','yasmeen','ravi','john','praveen','sajid','prabhu']"
   ]
  },
  {
   "cell_type": "code",
   "execution_count": null,
   "metadata": {},
   "outputs": [],
   "source": [
    "#req: to appreciate the students"
   ]
  },
  {
   "cell_type": "code",
   "execution_count": 19,
   "metadata": {},
   "outputs": [
    {
     "name": "stdout",
     "output_type": "stream",
     "text": [
      "Keep up the good work,suman\n",
      "Keep up the good work,keerthi\n",
      "Keep up the good work,yasmeen\n",
      "Keep up the good work,ravi\n",
      "Keep up the good work,john\n",
      "Keep up the good work,praveen\n",
      "Keep up the good work,sajid\n",
      "Keep up the good work,prabhu\n"
     ]
    }
   ],
   "source": [
    "for x in students:\n",
    "    print(f\"Keep up the good work,{x}\")"
   ]
  },
  {
   "cell_type": "code",
   "execution_count": 20,
   "metadata": {},
   "outputs": [
    {
     "name": "stdout",
     "output_type": "stream",
     "text": [
      "Keep up the good work,Suman\n",
      "Keep up the good work,Keerthi\n",
      "Keep up the good work,Yasmeen\n",
      "Keep up the good work,Ravi\n",
      "Keep up the good work,John\n",
      "Keep up the good work,Praveen\n",
      "Keep up the good work,Sajid\n",
      "Keep up the good work,Prabhu\n"
     ]
    }
   ],
   "source": [
    "for x in students:\n",
    "    print(f\"Keep up the good work,{x.title()}\")"
   ]
  },
  {
   "cell_type": "code",
   "execution_count": null,
   "metadata": {},
   "outputs": [],
   "source": [
    "# Enhancement of the code"
   ]
  },
  {
   "cell_type": "code",
   "execution_count": 27,
   "metadata": {},
   "outputs": [
    {
     "name": "stdout",
     "output_type": "stream",
     "text": [
      "Keep up the good work,Suman\n",
      "I will be looking forward to all your practice files of today,Suman.\n",
      "Keep up the good work,Keerthi\n",
      "I will be looking forward to all your practice files of today,Keerthi.\n",
      "Keep up the good work,Yasmeen\n",
      "I will be looking forward to all your practice files of today,Yasmeen.\n",
      "Keep up the good work,Ravi\n",
      "I will be looking forward to all your practice files of today,Ravi.\n",
      "Keep up the good work,John\n",
      "I will be looking forward to all your practice files of today,John.\n",
      "Keep up the good work,Praveen\n",
      "I will be looking forward to all your practice files of today,Praveen.\n",
      "Keep up the good work,Sajid\n",
      "I will be looking forward to all your practice files of today,Sajid.\n",
      "Keep up the good work,Prabhu\n",
      "I will be looking forward to all your practice files of today,Prabhu.\n"
     ]
    }
   ],
   "source": [
    "for x in students:\n",
    "    print(f\"Keep up the good work,{x.title()}\")\n",
    "    print(f\"I will be looking forward to all your practice files of today,{x.title()}.\")"
   ]
  },
  {
   "cell_type": "code",
   "execution_count": 16,
   "metadata": {},
   "outputs": [],
   "source": [
    "#Improvisation of the syntax"
   ]
  },
  {
   "cell_type": "code",
   "execution_count": 26,
   "metadata": {},
   "outputs": [
    {
     "name": "stdout",
     "output_type": "stream",
     "text": [
      "Keep up the good work,Suman\n",
      "I will be looking forward to all your practice files of today,Suman.\n",
      "\n",
      "Keep up the good work,Keerthi\n",
      "I will be looking forward to all your practice files of today,Keerthi.\n",
      "\n",
      "Keep up the good work,Yasmeen\n",
      "I will be looking forward to all your practice files of today,Yasmeen.\n",
      "\n",
      "Keep up the good work,Ravi\n",
      "I will be looking forward to all your practice files of today,Ravi.\n",
      "\n",
      "Keep up the good work,John\n",
      "I will be looking forward to all your practice files of today,John.\n",
      "\n",
      "Keep up the good work,Praveen\n",
      "I will be looking forward to all your practice files of today,Praveen.\n",
      "\n",
      "Keep up the good work,Sajid\n",
      "I will be looking forward to all your practice files of today,Sajid.\n",
      "\n",
      "Keep up the good work,Prabhu\n",
      "I will be looking forward to all your practice files of today,Prabhu.\n",
      "\n"
     ]
    }
   ],
   "source": [
    "for x in students:\n",
    "    print(f\"Keep up the good work,{x.title()}\")\n",
    "    print(f\"I will be looking forward to all your practice files of today,{x.title()}.\\n\")"
   ]
  },
  {
   "cell_type": "code",
   "execution_count": null,
   "metadata": {},
   "outputs": [],
   "source": []
  },
  {
   "cell_type": "code",
   "execution_count": 25,
   "metadata": {},
   "outputs": [
    {
     "name": "stdout",
     "output_type": "stream",
     "text": [
      "Keep up the good work,Suman\n",
      "I will be looking forward to all your practice files of today,Suman.\n",
      "\n",
      "Keep up the good work,Keerthi\n",
      "I will be looking forward to all your practice files of today,Keerthi.\n",
      "\n",
      "Keep up the good work,Yasmeen\n",
      "I will be looking forward to all your practice files of today,Yasmeen.\n",
      "\n",
      "Keep up the good work,Ravi\n",
      "I will be looking forward to all your practice files of today,Ravi.\n",
      "\n",
      "Keep up the good work,John\n",
      "I will be looking forward to all your practice files of today,John.\n",
      "\n",
      "Keep up the good work,Praveen\n",
      "I will be looking forward to all your practice files of today,Praveen.\n",
      "\n",
      "Keep up the good work,Sajid\n",
      "I will be looking forward to all your practice files of today,Sajid.\n",
      "\n",
      "Keep up the good work,Prabhu\n",
      "I will be looking forward to all your practice files of today,Prabhu.\n",
      "\n",
      "Thank you all for showing interest in learning python\n"
     ]
    }
   ],
   "source": [
    "for x in students:\n",
    "    print(f\"Keep up the good work,{x.title()}\")\n",
    "    print(f\"I will be looking forward to all your practice files of today,{x.title()}.\\n\")\n",
    "    \n",
    "print('Thank you all for showing interest in learning python')"
   ]
  },
  {
   "cell_type": "code",
   "execution_count": null,
   "metadata": {},
   "outputs": [],
   "source": []
  },
  {
   "cell_type": "code",
   "execution_count": null,
   "metadata": {},
   "outputs": [],
   "source": [
    "#Introductions to zen of Python"
   ]
  },
  {
   "cell_type": "code",
   "execution_count": 6,
   "metadata": {},
   "outputs": [
    {
     "name": "stdout",
     "output_type": "stream",
     "text": [
      "The Zen of Python, by Tim Peters\n",
      "\n",
      "Beautiful is better than ugly.\n",
      "Explicit is better than implicit.\n",
      "Simple is better than complex.\n",
      "Complex is better than complicated.\n",
      "Flat is better than nested.\n",
      "Sparse is better than dense.\n",
      "Readability counts.\n",
      "Special cases aren't special enough to break the rules.\n",
      "Although practicality beats purity.\n",
      "Errors should never pass silently.\n",
      "Unless explicitly silenced.\n",
      "In the face of ambiguity, refuse the temptation to guess.\n",
      "There should be one-- and preferably only one --obvious way to do it.\n",
      "Although that way may not be obvious at first unless you're Dutch.\n",
      "Now is better than never.\n",
      "Although never is often better than *right* now.\n",
      "If the implementation is hard to explain, it's a bad idea.\n",
      "If the implementation is easy to explain, it may be a good idea.\n",
      "Namespaces are one honking great idea -- let's do more of those!\n"
     ]
    }
   ],
   "source": [
    "import this"
   ]
  },
  {
   "cell_type": "code",
   "execution_count": null,
   "metadata": {},
   "outputs": [],
   "source": []
  },
  {
   "cell_type": "code",
   "execution_count": null,
   "metadata": {},
   "outputs": [],
   "source": [
    "#introduction to organizing the list"
   ]
  },
  {
   "cell_type": "code",
   "execution_count": 28,
   "metadata": {},
   "outputs": [
    {
     "name": "stdout",
     "output_type": "stream",
     "text": [
      "['suman', 'keerthi', 'yasmeen', 'ravi', 'john', 'praveen', 'sajid', 'prabhu']\n"
     ]
    }
   ],
   "source": [
    "print(students)"
   ]
  },
  {
   "cell_type": "code",
   "execution_count": null,
   "metadata": {},
   "outputs": [],
   "source": [
    "# two possible way to do that\n",
    "1. Temporary way\n",
    "2. Permananet way"
   ]
  },
  {
   "cell_type": "code",
   "execution_count": 29,
   "metadata": {},
   "outputs": [
    {
     "name": "stdout",
     "output_type": "stream",
     "text": [
      "['john', 'keerthi', 'prabhu', 'praveen', 'ravi', 'sajid', 'suman', 'yasmeen']\n"
     ]
    }
   ],
   "source": [
    "print(sorted(students))"
   ]
  },
  {
   "cell_type": "code",
   "execution_count": 30,
   "metadata": {},
   "outputs": [
    {
     "name": "stdout",
     "output_type": "stream",
     "text": [
      "['suman', 'keerthi', 'yasmeen', 'ravi', 'john', 'praveen', 'sajid', 'prabhu']\n"
     ]
    }
   ],
   "source": [
    "print(students)"
   ]
  },
  {
   "cell_type": "code",
   "execution_count": 31,
   "metadata": {},
   "outputs": [
    {
     "name": "stdout",
     "output_type": "stream",
     "text": [
      "['john', 'keerthi', 'prabhu', 'praveen', 'ravi', 'sajid', 'suman', 'yasmeen']\n"
     ]
    }
   ],
   "source": [
    "students.sort()\n",
    "print(students)"
   ]
  },
  {
   "cell_type": "code",
   "execution_count": 32,
   "metadata": {},
   "outputs": [
    {
     "name": "stdout",
     "output_type": "stream",
     "text": [
      "['john', 'keerthi', 'prabhu', 'praveen', 'ravi', 'sajid', 'suman', 'yasmeen']\n"
     ]
    }
   ],
   "source": [
    "print(students)"
   ]
  },
  {
   "cell_type": "code",
   "execution_count": null,
   "metadata": {},
   "outputs": [],
   "source": [
    "#sorted vs sort **"
   ]
  },
  {
   "cell_type": "code",
   "execution_count": null,
   "metadata": {},
   "outputs": [],
   "source": []
  },
  {
   "cell_type": "code",
   "execution_count": null,
   "metadata": {},
   "outputs": [],
   "source": []
  }
 ],
 "metadata": {
  "kernelspec": {
   "display_name": "Python 3",
   "language": "python",
   "name": "python3"
  },
  "language_info": {
   "codemirror_mode": {
    "name": "ipython",
    "version": 3
   },
   "file_extension": ".py",
   "mimetype": "text/x-python",
   "name": "python",
   "nbconvert_exporter": "python",
   "pygments_lexer": "ipython3",
   "version": "3.7.6"
  }
 },
 "nbformat": 4,
 "nbformat_minor": 4
}
