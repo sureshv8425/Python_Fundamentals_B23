{
 "cells": [
  {
   "cell_type": "code",
   "execution_count": null,
   "metadata": {},
   "outputs": [],
   "source": [
    "Introduction to constructors: (special method or magical method)\n",
    "    \n",
    "    def __init__ # this is the syntax to declare constructor\n",
    "    \n",
    "    Its an initilaization method"
   ]
  },
  {
   "cell_type": "code",
   "execution_count": null,
   "metadata": {},
   "outputs": [],
   "source": [
    "Requirement:\n",
    "    \n",
    "    Creating Dog class give name and age as a parameter of the dog\n",
    "    \n",
    "    create the method for the dog: 5 methods\n",
    "    \n",
    "    sit\n",
    "    \n",
    "    rollover\n",
    "    \n",
    "    sleep\n",
    "    \n",
    "    jump\n",
    "    \n",
    "    details\n",
    "    "
   ]
  },
  {
   "cell_type": "code",
   "execution_count": 1,
   "metadata": {},
   "outputs": [],
   "source": [
    "class Dog:\n",
    "    \"\"\" Creating a dog class and describing the action of the dog\"\"\"\n",
    "    \n",
    "    def __init__(self,name,age): # Constructor\n",
    "        self.name =  name\n",
    "        self.age = age\n",
    "        print( \"this is executed automatically\")\n",
    "        \n",
    "    def sit(self):\n",
    "        print(f\" {self.name} is now sitting on the command\")\n",
    "        \n",
    "    def rollover(self):\n",
    "        print(f\" {self.name} is now rolling over\")\n",
    "        \n",
    "    def sleep(self):\n",
    "        print(f\" {self.name} is now sleeping\")\n",
    "        \n",
    "    def jump(self):\n",
    "        print(f\" {self.name} is now jumping\")\n",
    "        \n",
    "    def details(self):\n",
    "        print(f\" {self.name} is the Dog name\")\n",
    "        print(f\" {self.age} is the Dog age\")\n",
    "        "
   ]
  },
  {
   "cell_type": "code",
   "execution_count": 2,
   "metadata": {},
   "outputs": [
    {
     "name": "stdout",
     "output_type": "stream",
     "text": [
      "this is executed automatically\n"
     ]
    }
   ],
   "source": [
    "test = Dog('rex',2) # in the object assignment only we can declare the arguments"
   ]
  },
  {
   "cell_type": "code",
   "execution_count": 3,
   "metadata": {},
   "outputs": [
    {
     "name": "stdout",
     "output_type": "stream",
     "text": [
      " rex is now sitting on the command\n"
     ]
    }
   ],
   "source": [
    "test.sit()"
   ]
  },
  {
   "cell_type": "code",
   "execution_count": 4,
   "metadata": {},
   "outputs": [
    {
     "name": "stdout",
     "output_type": "stream",
     "text": [
      " rex is now rolling over\n"
     ]
    }
   ],
   "source": [
    "test.rollover()"
   ]
  },
  {
   "cell_type": "code",
   "execution_count": 5,
   "metadata": {},
   "outputs": [
    {
     "name": "stdout",
     "output_type": "stream",
     "text": [
      " rex is now sleeping\n"
     ]
    }
   ],
   "source": [
    "test.sleep()"
   ]
  },
  {
   "cell_type": "code",
   "execution_count": 6,
   "metadata": {},
   "outputs": [
    {
     "name": "stdout",
     "output_type": "stream",
     "text": [
      " rex is now jumping\n"
     ]
    }
   ],
   "source": [
    "test.jump()"
   ]
  },
  {
   "cell_type": "code",
   "execution_count": 7,
   "metadata": {},
   "outputs": [
    {
     "name": "stdout",
     "output_type": "stream",
     "text": [
      " rex is the Dog name\n",
      " 2 is the Dog age\n"
     ]
    }
   ],
   "source": [
    "test.details()"
   ]
  },
  {
   "cell_type": "code",
   "execution_count": null,
   "metadata": {},
   "outputs": [],
   "source": []
  },
  {
   "cell_type": "code",
   "execution_count": null,
   "metadata": {},
   "outputs": [],
   "source": [
    "File handling in Python:"
   ]
  },
  {
   "cell_type": "code",
   "execution_count": null,
   "metadata": {},
   "outputs": [],
   "source": []
  },
  {
   "cell_type": "code",
   "execution_count": null,
   "metadata": {},
   "outputs": [],
   "source": []
  },
  {
   "cell_type": "code",
   "execution_count": null,
   "metadata": {},
   "outputs": [],
   "source": []
  },
  {
   "cell_type": "code",
   "execution_count": null,
   "metadata": {},
   "outputs": [],
   "source": []
  },
  {
   "cell_type": "code",
   "execution_count": null,
   "metadata": {},
   "outputs": [],
   "source": []
  },
  {
   "cell_type": "code",
   "execution_count": null,
   "metadata": {},
   "outputs": [],
   "source": []
  }
 ],
 "metadata": {
  "kernelspec": {
   "display_name": "Python 3",
   "language": "python",
   "name": "python3"
  },
  "language_info": {
   "codemirror_mode": {
    "name": "ipython",
    "version": 3
   },
   "file_extension": ".py",
   "mimetype": "text/x-python",
   "name": "python",
   "nbconvert_exporter": "python",
   "pygments_lexer": "ipython3",
   "version": "3.7.6"
  }
 },
 "nbformat": 4,
 "nbformat_minor": 4
}
